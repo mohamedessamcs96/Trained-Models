{
  "nbformat": 4,
  "nbformat_minor": 0,
  "metadata": {
    "colab": {
      "provenance": []
    },
    "kernelspec": {
      "name": "python3",
      "display_name": "Python 3"
    },
    "language_info": {
      "name": "python"
    }
  },
  "cells": [
    {
      "cell_type": "code",
      "execution_count": null,
      "metadata": {
        "colab": {
          "base_uri": "https://localhost:8080/"
        },
        "id": "Xam9WCr0VuM2",
        "outputId": "e3c782c5-a0b6-4919-cead-a2c7ec3daefe"
      },
      "outputs": [
        {
          "output_type": "stream",
          "name": "stdout",
          "text": [
            "0.5\n",
            "0.26666666666666666\n"
          ]
        }
      ],
      "source": [
        "from textblob import TextBlob\n",
        "\n",
        "# Preparing an input sentence\n",
        "sentence = '''The platform provides universal access to the world's best education, partnering with top universities and organizations to offer courses online.'''\n",
        "\n",
        "analysisPol = TextBlob(sentence).polarity\n",
        "analysisSub = TextBlob(sentence).subjectivity\n",
        "\n",
        "print(analysisPol)\n",
        "print(analysisSub)"
      ]
    }
  ]
}